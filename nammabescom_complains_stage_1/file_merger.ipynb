{
 "cells": [
  {
   "cell_type": "code",
   "execution_count": 21,
   "id": "eaf1e80a",
   "metadata": {},
   "outputs": [
    {
     "name": "stdout",
     "output_type": "stream",
     "text": [
      "Resultant CSV after joining all CSV files at a particular location...\n",
      "       Unnamed: 0             User               Date Created  \\\n",
      "0               0  SaidapetSocrat1  2022-05-03 23:45:12+00:00   \n",
      "1               1  Chand_LvNvrDies  2022-05-03 22:27:41+00:00   \n",
      "2               2   visakh_mathews  2022-05-03 21:12:05+00:00   \n",
      "3               3  GitanjaliFranc1  2022-05-03 21:01:42+00:00   \n",
      "4               4         AFCShanx  2022-05-03 20:33:29+00:00   \n",
      "...           ...              ...                        ...   \n",
      "49247        9996       kumarrao15  2022-08-12 06:06:20+00:00   \n",
      "49248        9997      NammaBESCOM  2022-08-12 06:04:46+00:00   \n",
      "49249        9998       sudhirsk83  2022-08-12 06:03:50+00:00   \n",
      "49250        9999         satven21  2022-08-12 06:01:12+00:00   \n",
      "49251       10000          Rajehs3  2022-08-12 05:59:59+00:00   \n",
      "\n",
      "       Number of Likes      Source of Tweet  \\\n",
      "0                    0  Twitter for Android   \n",
      "1                    0  Twitter for Android   \n",
      "2                    0  Twitter for Android   \n",
      "3                    1  Twitter for Android   \n",
      "4                    0  Twitter for Android   \n",
      "...                ...                  ...   \n",
      "49247                0   Twitter for iPhone   \n",
      "49248                0      Twitter Web App   \n",
      "49249                0  Twitter for Android   \n",
      "49250                0  Twitter for Android   \n",
      "49251                0      Twitter Web App   \n",
      "\n",
      "                                                   Tweet  \n",
      "0      @anilsreenivas @NammaBESCOM @BescomHelpline @m...  \n",
      "1      @NammaBESCOM @BescomTa @mdbescom \\n\\nNo timeli...  \n",
      "2      @NammaBESCOM no power near New BEL Road. Kindl...  \n",
      "3      @NammaBESCOM please restore power and let us s...  \n",
      "4      @NammaBESCOM actually did me a favour to sleep...  \n",
      "...                                                  ...  \n",
      "49247  @NammaBESCOM there is no power at my house lan...  \n",
      "49248  @deepikasorengm1 Dear Consumer,\\n\\nAs of now t...  \n",
      "49249  @NammaBESCOM\\nComplaint no : AS17513237\\n\\nIts...  \n",
      "49250          @NammaBESCOM no power please check thanks  \n",
      "49251  @NammaBESCOM \\nNo power since 8am morning. Doc...  \n",
      "\n",
      "[49252 rows x 6 columns]\n"
     ]
    }
   ],
   "source": [
    "import pandas as pd\n",
    "import glob\n",
    "import os\n",
    "\n",
    "# setting the path for joining multiple files\n",
    "files = os.path.join(\"C:\\\\Users\\\\abraa\\\\Desktop\\\\\", \"nammebescom*.csv\")\n",
    "\n",
    "# list of merged files returned\n",
    "files = glob.glob(files)\n",
    "\n",
    "print(\"Resultant CSV after joining all CSV files at a particular location...\");\n",
    "\n",
    "# joining files with concat and read_csv\n",
    "df = pd.concat(map(pd.read_csv, files), ignore_index=True)\n",
    "print(df)"
   ]
  },
  {
   "cell_type": "code",
   "execution_count": 22,
   "id": "f2147a64",
   "metadata": {},
   "outputs": [],
   "source": [
    "df = df[df.User != 'NammaBESCOM']"
   ]
  },
  {
   "cell_type": "code",
   "execution_count": 23,
   "id": "c90e2646",
   "metadata": {},
   "outputs": [
    {
     "name": "stdout",
     "output_type": "stream",
     "text": [
      "       Unnamed: 0             User               Date Created  \\\n",
      "0               0  SaidapetSocrat1  2022-05-03 23:45:12+00:00   \n",
      "1               1  Chand_LvNvrDies  2022-05-03 22:27:41+00:00   \n",
      "2               2   visakh_mathews  2022-05-03 21:12:05+00:00   \n",
      "3               3  GitanjaliFranc1  2022-05-03 21:01:42+00:00   \n",
      "4               4         AFCShanx  2022-05-03 20:33:29+00:00   \n",
      "...           ...              ...                        ...   \n",
      "49246        9995  VeronikaCandy25  2022-08-12 06:07:24+00:00   \n",
      "49247        9996       kumarrao15  2022-08-12 06:06:20+00:00   \n",
      "49249        9998       sudhirsk83  2022-08-12 06:03:50+00:00   \n",
      "49250        9999         satven21  2022-08-12 06:01:12+00:00   \n",
      "49251       10000          Rajehs3  2022-08-12 05:59:59+00:00   \n",
      "\n",
      "       Number of Likes      Source of Tweet  \\\n",
      "0                    0  Twitter for Android   \n",
      "1                    0  Twitter for Android   \n",
      "2                    0  Twitter for Android   \n",
      "3                    1  Twitter for Android   \n",
      "4                    0  Twitter for Android   \n",
      "...                ...                  ...   \n",
      "49246                0  Twitter for Android   \n",
      "49247                0   Twitter for iPhone   \n",
      "49249                0  Twitter for Android   \n",
      "49250                0  Twitter for Android   \n",
      "49251                0      Twitter Web App   \n",
      "\n",
      "                                                   Tweet  \n",
      "0      @anilsreenivas @NammaBESCOM @BescomHelpline @m...  \n",
      "1      @NammaBESCOM @BescomTa @mdbescom \\n\\nNo timeli...  \n",
      "2      @NammaBESCOM no power near New BEL Road. Kindl...  \n",
      "3      @NammaBESCOM please restore power and let us s...  \n",
      "4      @NammaBESCOM actually did me a favour to sleep...  \n",
      "...                                                  ...  \n",
      "49246  @NammaBESCOM You guys are giving the same resp...  \n",
      "49247  @NammaBESCOM there is no power at my house lan...  \n",
      "49249  @NammaBESCOM\\nComplaint no : AS17513237\\n\\nIts...  \n",
      "49250          @NammaBESCOM no power please check thanks  \n",
      "49251  @NammaBESCOM \\nNo power since 8am morning. Doc...  \n",
      "\n",
      "[44816 rows x 6 columns]\n"
     ]
    }
   ],
   "source": [
    "print(df)"
   ]
  },
  {
   "cell_type": "code",
   "execution_count": 24,
   "id": "5cf9d586",
   "metadata": {},
   "outputs": [],
   "source": [
    "df.drop(['Unnamed: 0','User', 'Number of Likes', 'Source of Tweet'], axis=1,inplace=True)"
   ]
  },
  {
   "cell_type": "code",
   "execution_count": 25,
   "id": "d9907e4d",
   "metadata": {},
   "outputs": [
    {
     "name": "stdout",
     "output_type": "stream",
     "text": [
      "                    Date Created  \\\n",
      "0      2022-05-03 23:45:12+00:00   \n",
      "1      2022-05-03 22:27:41+00:00   \n",
      "2      2022-05-03 21:12:05+00:00   \n",
      "3      2022-05-03 21:01:42+00:00   \n",
      "4      2022-05-03 20:33:29+00:00   \n",
      "...                          ...   \n",
      "49246  2022-08-12 06:07:24+00:00   \n",
      "49247  2022-08-12 06:06:20+00:00   \n",
      "49249  2022-08-12 06:03:50+00:00   \n",
      "49250  2022-08-12 06:01:12+00:00   \n",
      "49251  2022-08-12 05:59:59+00:00   \n",
      "\n",
      "                                                   Tweet  \n",
      "0      @anilsreenivas @NammaBESCOM @BescomHelpline @m...  \n",
      "1      @NammaBESCOM @BescomTa @mdbescom \\n\\nNo timeli...  \n",
      "2      @NammaBESCOM no power near New BEL Road. Kindl...  \n",
      "3      @NammaBESCOM please restore power and let us s...  \n",
      "4      @NammaBESCOM actually did me a favour to sleep...  \n",
      "...                                                  ...  \n",
      "49246  @NammaBESCOM You guys are giving the same resp...  \n",
      "49247  @NammaBESCOM there is no power at my house lan...  \n",
      "49249  @NammaBESCOM\\nComplaint no : AS17513237\\n\\nIts...  \n",
      "49250          @NammaBESCOM no power please check thanks  \n",
      "49251  @NammaBESCOM \\nNo power since 8am morning. Doc...  \n",
      "\n",
      "[44816 rows x 2 columns]\n"
     ]
    }
   ],
   "source": [
    "print(df)"
   ]
  },
  {
   "cell_type": "code",
   "execution_count": 28,
   "id": "d3932f81",
   "metadata": {},
   "outputs": [
    {
     "name": "stdout",
     "output_type": "stream",
     "text": [
      "0        @anilsreenivas @nammabescom @bescomhelpline @m...\n",
      "1        @nammabescom @bescomta @mdbescom \\n\\nno timeli...\n",
      "2        @nammabescom no power near new bel road. kindl...\n",
      "3        @nammabescom please restore power and let us s...\n",
      "4        @nammabescom actually did me a favour to sleep...\n",
      "                               ...                        \n",
      "49246    @nammabescom you guys are giving the same resp...\n",
      "49247    @nammabescom there is no power at my house lan...\n",
      "49249    @nammabescom\\ncomplaint no : as17513237\\n\\nits...\n",
      "49250            @nammabescom no power please check thanks\n",
      "49251    @nammabescom \\nno power since 8am morning. doc...\n",
      "Name: Tweet, Length: 44816, dtype: object\n"
     ]
    }
   ],
   "source": [
    "df1= df['Tweet'].str.lower()\n",
    "print(df1)"
   ]
  },
  {
   "cell_type": "code",
   "execution_count": 29,
   "id": "34df6fca",
   "metadata": {},
   "outputs": [
    {
     "name": "stdout",
     "output_type": "stream",
     "text": [
      "                    Date Created\n",
      "0      2022-05-03 23:45:12+00:00\n",
      "1      2022-05-03 22:27:41+00:00\n",
      "2      2022-05-03 21:12:05+00:00\n",
      "3      2022-05-03 21:01:42+00:00\n",
      "4      2022-05-03 20:33:29+00:00\n",
      "...                          ...\n",
      "49246  2022-08-12 06:07:24+00:00\n",
      "49247  2022-08-12 06:06:20+00:00\n",
      "49249  2022-08-12 06:03:50+00:00\n",
      "49250  2022-08-12 06:01:12+00:00\n",
      "49251  2022-08-12 05:59:59+00:00\n",
      "\n",
      "[44816 rows x 1 columns]\n"
     ]
    }
   ],
   "source": [
    "df.drop(['Tweet'], axis=1,inplace=True)\n",
    "print(df)"
   ]
  },
  {
   "cell_type": "code",
   "execution_count": 34,
   "id": "2468a9b3",
   "metadata": {},
   "outputs": [
    {
     "name": "stdout",
     "output_type": "stream",
     "text": [
      "                    Date Created  \\\n",
      "0      2022-05-03 23:45:12+00:00   \n",
      "1      2022-05-03 22:27:41+00:00   \n",
      "2      2022-05-03 21:12:05+00:00   \n",
      "3      2022-05-03 21:01:42+00:00   \n",
      "4      2022-05-03 20:33:29+00:00   \n",
      "...                          ...   \n",
      "49246  2022-08-12 06:07:24+00:00   \n",
      "49247  2022-08-12 06:06:20+00:00   \n",
      "49249  2022-08-12 06:03:50+00:00   \n",
      "49250  2022-08-12 06:01:12+00:00   \n",
      "49251  2022-08-12 05:59:59+00:00   \n",
      "\n",
      "                                                   Tweet  \n",
      "0      @anilsreenivas @nammabescom @bescomhelpline @m...  \n",
      "1      @nammabescom @bescomta @mdbescom \\n\\nno timeli...  \n",
      "2      @nammabescom no power near new bel road. kindl...  \n",
      "3      @nammabescom please restore power and let us s...  \n",
      "4      @nammabescom actually did me a favour to sleep...  \n",
      "...                                                  ...  \n",
      "49246  @nammabescom you guys are giving the same resp...  \n",
      "49247  @nammabescom there is no power at my house lan...  \n",
      "49249  @nammabescom\\ncomplaint no : as17513237\\n\\nits...  \n",
      "49250          @nammabescom no power please check thanks  \n",
      "49251  @nammabescom \\nno power since 8am morning. doc...  \n",
      "\n",
      "[44816 rows x 2 columns]\n"
     ]
    }
   ],
   "source": [
    "df2 = [df , df1]\n",
    "df_final = pd.concat(df2, axis=1)\n",
    "print(df_final)"
   ]
  },
  {
   "cell_type": "code",
   "execution_count": 36,
   "id": "eaa3f845",
   "metadata": {},
   "outputs": [
    {
     "name": "stdout",
     "output_type": "stream",
     "text": [
      "                    Date Created  \\\n",
      "19249  2022-01-01 00:28:50+00:00   \n",
      "19248  2022-01-01 00:42:44+00:00   \n",
      "19247  2022-01-01 00:49:36+00:00   \n",
      "19245  2022-01-01 01:10:54+00:00   \n",
      "19244  2022-01-01 01:21:50+00:00   \n",
      "...                          ...   \n",
      "39256  2022-10-06 20:25:47+00:00   \n",
      "39255  2022-10-06 20:29:37+00:00   \n",
      "39254  2022-10-06 20:31:04+00:00   \n",
      "39253  2022-10-06 20:31:37+00:00   \n",
      "39252  2022-10-06 20:52:17+00:00   \n",
      "\n",
      "                                                   Tweet  \n",
      "19249  @nammabescom still no light since yesterday ev...  \n",
      "19248  #25,1st e main 8th cross sir mv nagar,ramamurt...  \n",
      "19247  @nammabescom why is there power cut for one li...  \n",
      "19245  @nammabescom… thank you for a low voltage star...  \n",
      "19244  @nammabescom manjunatha nagar, tc palya road, ...  \n",
      "...                                                  ...  \n",
      "39256  no power from last 2 hrs. surya , 9538075650, ...  \n",
      "39255  we are suffering due to day and night powercut...  \n",
      "39254  bescom help desk is not replying to any of our...  \n",
      "39253  this is midnight and no power from last 2 hrs,...  \n",
      "39252  bescom is really treating common man with negl...  \n",
      "\n",
      "[44816 rows x 2 columns]\n"
     ]
    }
   ],
   "source": [
    "df4=df_final.sort_values(by=['Date Created'],ascending=True)\n",
    "print(df4)"
   ]
  },
  {
   "cell_type": "code",
   "execution_count": 38,
   "id": "d90056e9",
   "metadata": {},
   "outputs": [],
   "source": [
    "df4.to_csv('final_dataset_bescom.csv', index=False)"
   ]
  },
  {
   "cell_type": "code",
   "execution_count": null,
   "id": "77c18212",
   "metadata": {},
   "outputs": [],
   "source": []
  }
 ],
 "metadata": {
  "kernelspec": {
   "display_name": "Python 3 (ipykernel)",
   "language": "python",
   "name": "python3"
  },
  "language_info": {
   "codemirror_mode": {
    "name": "ipython",
    "version": 3
   },
   "file_extension": ".py",
   "mimetype": "text/x-python",
   "name": "python",
   "nbconvert_exporter": "python",
   "pygments_lexer": "ipython3",
   "version": "3.9.12"
  }
 },
 "nbformat": 4,
 "nbformat_minor": 5
}
